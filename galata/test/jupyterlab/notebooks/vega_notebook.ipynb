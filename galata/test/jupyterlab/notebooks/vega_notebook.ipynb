{
 "cells": [
  {
   "cell_type": "code",
   "execution_count": null,
   "metadata": {},
   "outputs": [],
   "source": [
    "from IPython.display import display\n",
    "\n",
    "display({\n",
    "    \"application/vnd.vegalite.v3+json\": {\n",
    "        \"$schema\": \"https://vega.github.io/schema/vega-lite/v3.json\",\n",
    "        \"description\": \"A simple bar chart with embedded data.\",\n",
    "        \"data\": {\n",
    "            \"values\": [\n",
    "                {\"a\": \"A\", \"b\": 28}, {\"a\": \"B\", \"b\": 55}, {\"a\": \"C\", \"b\": 43},\n",
    "                {\"a\": \"D\", \"b\": 91}, {\"a\": \"E\", \"b\": 81}, {\"a\": \"F\", \"b\": 53},\n",
    "                {\"a\": \"G\", \"b\": 19}, {\"a\": \"H\", \"b\": 87}, {\"a\": \"I\", \"b\": 52}\n",
    "            ]\n",
    "        },\n",
    "        \"mark\": \"bar\",\n",
    "        \"encoding\": {\n",
    "            \"x\": {\"field\": \"a\", \"type\": \"ordinal\"},\n",
    "            \"y\": {\"field\": \"b\", \"type\": \"quantitative\"}\n",
    "        },\n",
    "        \"metadata\": {\n",
    "            \"theme\": \"dark\"\n",
    "        },\n",
    "    }\n",
    "}, raw=True)"
   ]
  }
 ],
 "metadata": {
  "kernelspec": {
   "display_name": "Python 3 (ipykernel)",
   "language": "python",
   "name": "python3"
  },
  "language_info": {
   "codemirror_mode": {
    "name": "ipython",
    "version": 3
   },
   "file_extension": ".py",
   "mimetype": "text/x-python",
   "name": "python",
   "nbconvert_exporter": "python",
   "pygments_lexer": "ipython3",
   "version": "3.10.4"
  }
 },
 "nbformat": 4,
 "nbformat_minor": 4
}
